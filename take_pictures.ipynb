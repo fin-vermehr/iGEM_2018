{
 "cells": [
  {
   "cell_type": "markdown",
   "metadata": {
    "deletable": false,
    "editable": false,
    "scrolled": true
   },
   "source": [
    "# Use this code to take pictures with the raspberry pi\n",
    "\n",
    ">1. Navigate to `Cell` in the toolbar and find `Run All` in the dropdown to use the presets\n",
    ">2. If you want to change settings from the default, do so in the cell below (use `Run All` after you change the settings)\n",
    ">3. Wait for the \"pictures uploaded\" message to appear\n",
    "\n",
    "We are using jupyter notebooks, which communicates over wifi to send the instructions typed here to the raspberry pi. The pi will execute the instructions, and the result will appear here. Jupyter notebooks are divided into different \"cells\", each one can hold code that can be executed by clicking `Run`. There's only two cells of code here, and you can change the values in the first one to suit you needs.\n",
    "\n",
    "It can take a few seconds to upload the pictures after they have been taken, be patient!\n",
    "\n",
    "When you are done with the jupyter notebook, you do not need to save.\n"
   ]
  },
  {
   "cell_type": "code",
   "execution_count": 1,
   "metadata": {
    "deletable": false
   },
   "outputs": [],
   "source": [
    "number_of_pictures = 5\n",
    "time_between_pictures = 30\n",
    "batch_name = \"myBatch\""
   ]
  },
  {
   "cell_type": "markdown",
   "metadata": {
    "deletable": false,
    "editable": false,
    "scrolled": true
   },
   "source": [
    "## Photos will be uploaded [here](https://github.com/fin-vermehr/iGEM_2018/tree/master/capture)\n",
    "\n",
    "You are not able to edit this cell, but you can look!\n"
   ]
  },
  {
   "cell_type": "code",
   "execution_count": 2,
   "metadata": {
    "deletable": false,
    "editable": false
   },
   "outputs": [
    {
     "name": "stdout",
     "output_type": "stream",
     "text": [
      "Process is terminated.\n"
     ]
    }
   ],
   "source": [
    "%%bash -s \"$number_of_pictures\" \"$time_between_pictures\" \"$batch_name\"\n",
    "n=$1 \n",
    "t=$2\n",
    "b=$3 \n",
    "\n",
    "#Neat use of jupyter's \"magic\" to create a bash cell! \n",
    "#Let's print the working directory \n",
    "echo current working directory: $(pwd)\n",
    "\n",
    "#Now let's run the script that takes pictures. This will automatically upload the pictures to \n",
    "#github (link above) and timestamp the images. It knows how many to take and when to take them \n",
    "#since we set the values for number_of_pictures, time_between_pictures, and batch_name.\n",
    "bash take.sh -n $n -t $t -b $b"
   ]
  }
 ],
 "metadata": {
  "kernelspec": {
   "display_name": "Python 3",
   "language": "python",
   "name": "python3"
  },
  "language_info": {
   "codemirror_mode": {
    "name": "ipython",
    "version": 3
   },
   "file_extension": ".py",
   "mimetype": "text/x-python",
   "name": "python",
   "nbconvert_exporter": "python",
   "pygments_lexer": "ipython3",
   "version": "3.5.3"
  }
 },
 "nbformat": 4,
 "nbformat_minor": 2
}
