{
 "cells": [
  {
   "cell_type": "markdown",
   "metadata": {},
   "source": [
    "# Use this code to take pictures with the raspberry pi\n",
    "In the toolbar, go to # Cell>run all to use the default settings (5 pictures, taken 10 seconds apart)\n",
    "\n",
    "If you want to change settings from the default, do so in the cell below (you will have to click run twice)\n",
    "\n",
    "Wait for the \"photos uploaded\" message to appear"
   ]
  },
  {
   "cell_type": "code",
   "execution_count": 1,
   "metadata": {},
   "outputs": [],
   "source": [
    "number_of_pictures = 2\n",
    "time_between_pictures = 1\n",
    "batch_name = \"myBatch\""
   ]
  },
  {
   "cell_type": "markdown",
   "metadata": {},
   "source": [
    "we use jupyter's \"magic\" to have a bash cell\n"
   ]
  },
  {
   "cell_type": "code",
   "execution_count": 2,
   "metadata": {},
   "outputs": [
    {
     "name": "stdout",
     "output_type": "stream",
     "text": [
      "working directory\n",
      "/home/igem/iGEM_2018\n",
      "picture taken 2018-06-07_0345_myBatch1.jpg\n",
      "On branch master\n",
      "Your branch is up-to-date with 'origin/master'.\n",
      "Changes not staged for commit:\n",
      "\tmodified:   take.sh\n",
      "\n",
      "Untracked files:\n",
      "\t.ipynb_checkpoints/\n",
      "\ttake_pictures.ipynb\n",
      "\n",
      "no changes added to commit\n",
      "picture taken 2018-06-07_0346_myBatch2.jpg\n",
      "On branch master\n",
      "Your branch is up-to-date with 'origin/master'.\n",
      "Changes not staged for commit:\n",
      "\tmodified:   take.sh\n",
      "\n",
      "Untracked files:\n",
      "\t.ipynb_checkpoints/\n",
      "\ttake_pictures.ipynb\n",
      "\n",
      "no changes added to commit\n",
      "pictures uploaded\n"
     ]
    },
    {
     "name": "stderr",
     "output_type": "stream",
     "text": [
      "mmal: main: Error opening output file: /home/igem/iGEM_2018/capture/2018-06-07_0345_myBatch1.jpg~\n",
      "No output file will be generated\n",
      "\n",
      "fatal: pathspec '/home/igem/iGEM_2018/capture/2018-06-07_0345_myBatch1.jpg' did not match any files\n",
      "mmal: main: Error opening output file: /home/igem/iGEM_2018/capture/2018-06-07_0346_myBatch2.jpg~\n",
      "No output file will be generated\n",
      "\n",
      "fatal: pathspec '/home/igem/iGEM_2018/capture/2018-06-07_0346_myBatch2.jpg' did not match any files\n"
     ]
    }
   ],
   "source": [
    "%%bash -s \"$number_of_pictures\" \"$time_between_pictures\" \"$batch_name\"\n",
    "n=$1 \n",
    "t=$2\n",
    "b=$3 \n",
    "\n",
    "echo working directory\n",
    "pwd\n",
    "#run the script that takes pictures. This will automatically upload the picture\n",
    "#to https://github.com/harrig12/iGEM18_photos and timestamp the image\n",
    "#you can modify the number taken and the time delay between pictures (in seconds) \n",
    "#with -n and -t respectively.\n",
    "bash take.sh -n $n -t $t -b $b"
   ]
  },
  {
   "cell_type": "code",
   "execution_count": null,
   "metadata": {},
   "outputs": [],
   "source": []
  }
 ],
 "metadata": {
  "kernelspec": {
   "display_name": "Python 3",
   "language": "python",
   "name": "python3"
  },
  "language_info": {
   "codemirror_mode": {
    "name": "ipython",
    "version": 3
   },
   "file_extension": ".py",
   "mimetype": "text/x-python",
   "name": "python",
   "nbconvert_exporter": "python",
   "pygments_lexer": "ipython3",
   "version": "3.5.3"
  }
 },
 "nbformat": 4,
 "nbformat_minor": 2
}
